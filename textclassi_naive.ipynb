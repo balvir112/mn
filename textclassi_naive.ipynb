{
  "cells": [
    {
      "cell_type": "code",
      "execution_count": 1,
      "metadata": {
        "colab": {
          "base_uri": "https://localhost:8080/",
          "height": 771
        },
        "id": "RKqgWVDZJyo0",
        "outputId": "cd06776b-8dbc-4804-bf7a-04ad0348580d"
      },
      "outputs": [
        {
          "name": "stdout",
          "output_type": "stream",
          "text": [
            "NAIVE BAYES ENGLISH TEST CLASSIFICATION\n"
          ]
        }
      ],
      "source": [
        "print(\"NAIVE BAYES ENGLISH TEST CLASSIFICATION\")\n",
        "import numpy as np, pandas as pd\n",
        "import seaborn as sns\n",
        "import matplotlib.pyplot as plt\n",
        "from sklearn.datasets import fetch_20newsgroups\n",
        "from sklearn.feature_extraction.text import TfidfVectorizer\n",
        "from sklearn.naive_bayes import MultinomialNB\n",
        "from sklearn.pipeline import make_pipeline\n",
        "from sklearn.metrics import confusion_matrix, accuracy_score\n",
        "sns.set() # use seaborn plotting style\n",
        "# Load the dataset\n",
        "data = fetch_20newsgroups()# Get the text categories\n",
        "text_categories = data.target_names# define the training set\n",
        "train_data = fetch_20newsgroups(subset=\"train\", categories=text_categories)# define the test set\n",
        "test_data = fetch_20newsgroups(subset=\"test\", categories=text_categories)\n",
        "print(\"We have {} unique classes\".format(len(text_categories)))\n",
        "print(\"We have {} training samples\".format(len(train_data.data)))\n",
        "print(\"We have {} test samples\".format(len(test_data.data)))\n",
        "# let’s have a look as some training data let it 5th only\n",
        "#print(test_data.data[5])\n",
        "# Build the model\n",
        "model = make_pipeline(TfidfVectorizer(), MultinomialNB())# Train the model using the training data\n",
        "model.fit(train_data.data, train_data.target)# Predict the categories of the test data\n",
        "predicted_categories = model.predict(test_data.data)\n",
        "print(np.array(test_data.target_names)[predicted_categories])\n",
        "# plot the confusion matrix\n",
        "mat = confusion_matrix(test_data.target, predicted_categories)\n",
        "sns.heatmap(mat.T, square = True, annot=True, fmt = \"d\",\n",
        "xticklabels=train_data.target_names,yticklabels=train_data.target_names)\n",
        "plt.xlabel(\"true labels\")\n",
        "plt.ylabel(\"predicted label\")\n",
        "plt.show()\n",
        "print(\"The accuracy is {}\".format(accuracy_score(test_data.target, predicted_categories)))"
      ]
    }
  ],
  "metadata": {
    "colab": {
      "provenance": []
    },
    "kernelspec": {
      "display_name": "Python 3",
      "name": "python3"
    },
    "language_info": {
      "codemirror_mode": {
        "name": "ipython",
        "version": 3
      },
      "file_extension": ".py",
      "mimetype": "text/x-python",
      "name": "python",
      "nbconvert_exporter": "python",
      "pygments_lexer": "ipython3",
      "version": "3.10.12"
    }
  },
  "nbformat": 4,
  "nbformat_minor": 0
}
